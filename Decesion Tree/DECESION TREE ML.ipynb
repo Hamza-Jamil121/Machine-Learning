{
 "cells": [
  {
   "cell_type": "markdown",
   "metadata": {},
   "source": [
    "# DECESION TREE MACHINE LEARNING"
   ]
  },
  {
   "cell_type": "markdown",
   "metadata": {},
   "source": []
  },
  {
   "cell_type": "code",
   "execution_count": 4,
   "metadata": {},
   "outputs": [
    {
     "data": {
      "text/plain": [
       "LabelEncoder()"
      ]
     },
     "execution_count": 4,
     "metadata": {},
     "output_type": "execute_result"
    }
   ],
   "source": [
    "import numpy as np\n",
    "import pandas as pd\n",
    "from sklearn.preprocessing import LabelEncoder\n",
    "lab=LabelEncoder()\n",
    "lab"
   ]
  },
  {
   "cell_type": "code",
   "execution_count": 8,
   "metadata": {},
   "outputs": [
    {
     "data": {
      "text/html": [
       "<div>\n",
       "<style scoped>\n",
       "    .dataframe tbody tr th:only-of-type {\n",
       "        vertical-align: middle;\n",
       "    }\n",
       "\n",
       "    .dataframe tbody tr th {\n",
       "        vertical-align: top;\n",
       "    }\n",
       "\n",
       "    .dataframe thead th {\n",
       "        text-align: right;\n",
       "    }\n",
       "</style>\n",
       "<table border=\"1\" class=\"dataframe\">\n",
       "  <thead>\n",
       "    <tr style=\"text-align: right;\">\n",
       "      <th></th>\n",
       "      <th>company</th>\n",
       "      <th>job</th>\n",
       "      <th>degree</th>\n",
       "      <th>salary_more_then_100k</th>\n",
       "    </tr>\n",
       "  </thead>\n",
       "  <tbody>\n",
       "    <tr>\n",
       "      <th>0</th>\n",
       "      <td>google</td>\n",
       "      <td>sales executive</td>\n",
       "      <td>bachelors</td>\n",
       "      <td>0</td>\n",
       "    </tr>\n",
       "    <tr>\n",
       "      <th>1</th>\n",
       "      <td>google</td>\n",
       "      <td>sales executive</td>\n",
       "      <td>masters</td>\n",
       "      <td>0</td>\n",
       "    </tr>\n",
       "    <tr>\n",
       "      <th>2</th>\n",
       "      <td>google</td>\n",
       "      <td>business manager</td>\n",
       "      <td>bachelors</td>\n",
       "      <td>1</td>\n",
       "    </tr>\n",
       "    <tr>\n",
       "      <th>3</th>\n",
       "      <td>google</td>\n",
       "      <td>business manager</td>\n",
       "      <td>masters</td>\n",
       "      <td>1</td>\n",
       "    </tr>\n",
       "    <tr>\n",
       "      <th>4</th>\n",
       "      <td>google</td>\n",
       "      <td>computer programmer</td>\n",
       "      <td>bachelors</td>\n",
       "      <td>0</td>\n",
       "    </tr>\n",
       "  </tbody>\n",
       "</table>\n",
       "</div>"
      ],
      "text/plain": [
       "  company                  job     degree  salary_more_then_100k\n",
       "0  google      sales executive  bachelors                      0\n",
       "1  google      sales executive    masters                      0\n",
       "2  google     business manager  bachelors                      1\n",
       "3  google     business manager    masters                      1\n",
       "4  google  computer programmer  bachelors                      0"
      ]
     },
     "execution_count": 8,
     "metadata": {},
     "output_type": "execute_result"
    }
   ],
   "source": [
    "read=pd.read_csv(\"C:\\\\Users\\\\hamza jamil\\\\Downloads\\\\Documents\\\\py-master\\\\ML\\\\9_decision_tree\\\\salaries.csv\")\n",
    "read.head()"
   ]
  },
  {
   "cell_type": "code",
   "execution_count": 11,
   "metadata": {},
   "outputs": [
    {
     "data": {
      "text/html": [
       "<div>\n",
       "<style scoped>\n",
       "    .dataframe tbody tr th:only-of-type {\n",
       "        vertical-align: middle;\n",
       "    }\n",
       "\n",
       "    .dataframe tbody tr th {\n",
       "        vertical-align: top;\n",
       "    }\n",
       "\n",
       "    .dataframe thead th {\n",
       "        text-align: right;\n",
       "    }\n",
       "</style>\n",
       "<table border=\"1\" class=\"dataframe\">\n",
       "  <thead>\n",
       "    <tr style=\"text-align: right;\">\n",
       "      <th></th>\n",
       "      <th>company</th>\n",
       "      <th>job</th>\n",
       "      <th>degree</th>\n",
       "    </tr>\n",
       "  </thead>\n",
       "  <tbody>\n",
       "    <tr>\n",
       "      <th>0</th>\n",
       "      <td>google</td>\n",
       "      <td>sales executive</td>\n",
       "      <td>bachelors</td>\n",
       "    </tr>\n",
       "    <tr>\n",
       "      <th>1</th>\n",
       "      <td>google</td>\n",
       "      <td>sales executive</td>\n",
       "      <td>masters</td>\n",
       "    </tr>\n",
       "    <tr>\n",
       "      <th>2</th>\n",
       "      <td>google</td>\n",
       "      <td>business manager</td>\n",
       "      <td>bachelors</td>\n",
       "    </tr>\n",
       "    <tr>\n",
       "      <th>3</th>\n",
       "      <td>google</td>\n",
       "      <td>business manager</td>\n",
       "      <td>masters</td>\n",
       "    </tr>\n",
       "    <tr>\n",
       "      <th>4</th>\n",
       "      <td>google</td>\n",
       "      <td>computer programmer</td>\n",
       "      <td>bachelors</td>\n",
       "    </tr>\n",
       "  </tbody>\n",
       "</table>\n",
       "</div>"
      ],
      "text/plain": [
       "  company                  job     degree\n",
       "0  google      sales executive  bachelors\n",
       "1  google      sales executive    masters\n",
       "2  google     business manager  bachelors\n",
       "3  google     business manager    masters\n",
       "4  google  computer programmer  bachelors"
      ]
     },
     "execution_count": 11,
     "metadata": {},
     "output_type": "execute_result"
    }
   ],
   "source": [
    "non_t=read.drop(['salary_more_then_100k'],axis='columns')\n",
    "non_t.head()"
   ]
  },
  {
   "cell_type": "code",
   "execution_count": 15,
   "metadata": {},
   "outputs": [],
   "source": [
    "target=read['salary_more_then_100k']\n"
   ]
  },
  {
   "cell_type": "code",
   "execution_count": 52,
   "metadata": {},
   "outputs": [],
   "source": [
    "non_t1=non_t[0:8]\n",
    "non_t2=non_t[9:15]"
   ]
  },
  {
   "cell_type": "code",
   "execution_count": 59,
   "metadata": {},
   "outputs": [
    {
     "data": {
      "text/plain": [
       "<matplotlib.collections.PathCollection at 0x1822cb7acf8>"
      ]
     },
     "execution_count": 59,
     "metadata": {},
     "output_type": "execute_result"
    },
    {
     "data": {
      "image/png": "[encoded data removed]",
      "text/plain": [
       "<Figure size 432x288 with 1 Axes>"
      ]
     },
     "metadata": {
      "needs_background": "light"
     },
     "output_type": "display_data"
    }
   ],
   "source": [
    "import matplotlib.pyplot as plt\n",
    "%matplotlib inline\n",
    "plt.scatter(non_t1['company'],non_t1['job'],target,color='red',marker='+')\n",
    "plt.scatter(non_t2['company'],non_t2['job'],target)\n",
    "\n",
    "\n",
    "\n",
    "\n",
    "\n",
    "\n"
   ]
  },
  {
   "cell_type": "code",
   "execution_count": 18,
   "metadata": {},
   "outputs": [],
   "source": [
    "#nowe here we encode over data\n",
    "comp1=lab\n",
    "job1=lab\n",
    "degree1=lab\n"
   ]
  },
  {
   "cell_type": "code",
   "execution_count": 19,
   "metadata": {},
   "outputs": [],
   "source": [
    "non_t['comp_n']=comp1.fit_transform(non_t['company'])\n",
    "non_t['job_n']=comp1.fit_transform(non_t['job'])\n",
    "non_t['degree_n']=comp1.fit_transform(non_t['degree'])"
   ]
  },
  {
   "cell_type": "code",
   "execution_count": 22,
   "metadata": {},
   "outputs": [
    {
     "data": {
      "text/html": [
       "<div>\n",
       "<style scoped>\n",
       "    .dataframe tbody tr th:only-of-type {\n",
       "        vertical-align: middle;\n",
       "    }\n",
       "\n",
       "    .dataframe tbody tr th {\n",
       "        vertical-align: top;\n",
       "    }\n",
       "\n",
       "    .dataframe thead th {\n",
       "        text-align: right;\n",
       "    }\n",
       "</style>\n",
       "<table border=\"1\" class=\"dataframe\">\n",
       "  <thead>\n",
       "    <tr style=\"text-align: right;\">\n",
       "      <th></th>\n",
       "      <th>comp_n</th>\n",
       "      <th>job_n</th>\n",
       "      <th>degree_n</th>\n",
       "    </tr>\n",
       "  </thead>\n",
       "  <tbody>\n",
       "    <tr>\n",
       "      <th>0</th>\n",
       "      <td>2</td>\n",
       "      <td>2</td>\n",
       "      <td>0</td>\n",
       "    </tr>\n",
       "    <tr>\n",
       "      <th>1</th>\n",
       "      <td>2</td>\n",
       "      <td>2</td>\n",
       "      <td>1</td>\n",
       "    </tr>\n",
       "    <tr>\n",
       "      <th>2</th>\n",
       "      <td>2</td>\n",
       "      <td>0</td>\n",
       "      <td>0</td>\n",
       "    </tr>\n",
       "    <tr>\n",
       "      <th>3</th>\n",
       "      <td>2</td>\n",
       "      <td>0</td>\n",
       "      <td>1</td>\n",
       "    </tr>\n",
       "    <tr>\n",
       "      <th>4</th>\n",
       "      <td>2</td>\n",
       "      <td>1</td>\n",
       "      <td>0</td>\n",
       "    </tr>\n",
       "  </tbody>\n",
       "</table>\n",
       "</div>"
      ],
      "text/plain": [
       "   comp_n  job_n  degree_n\n",
       "0       2      2         0\n",
       "1       2      2         1\n",
       "2       2      0         0\n",
       "3       2      0         1\n",
       "4       2      1         0"
      ]
     },
     "execution_count": 22,
     "metadata": {},
     "output_type": "execute_result"
    }
   ],
   "source": [
    "nont=non_t.drop(['company','job','degree'],axis='columns')\n",
    "nont.head()"
   ]
  },
  {
   "cell_type": "code",
   "execution_count": 26,
   "metadata": {},
   "outputs": [
    {
     "data": {
      "text/plain": [
       "DecisionTreeClassifier(class_weight=None, criterion='gini', max_depth=None,\n",
       "            max_features=None, max_leaf_nodes=None,\n",
       "            min_impurity_decrease=0.0, min_impurity_split=None,\n",
       "            min_samples_leaf=1, min_samples_split=2,\n",
       "            min_weight_fraction_leaf=0.0, presort=False, random_state=None,\n",
       "            splitter='best')"
      ]
     },
     "execution_count": 26,
     "metadata": {},
     "output_type": "execute_result"
    }
   ],
   "source": [
    "from sklearn import tree\n",
    "model=tree.DecisionTreeClassifier()\n",
    "model"
   ]
  },
  {
   "cell_type": "code",
   "execution_count": 27,
   "metadata": {},
   "outputs": [
    {
     "data": {
      "text/plain": [
       "DecisionTreeClassifier(class_weight=None, criterion='gini', max_depth=None,\n",
       "            max_features=None, max_leaf_nodes=None,\n",
       "            min_impurity_decrease=0.0, min_impurity_split=None,\n",
       "            min_samples_leaf=1, min_samples_split=2,\n",
       "            min_weight_fraction_leaf=0.0, presort=False, random_state=None,\n",
       "            splitter='best')"
      ]
     },
     "execution_count": 27,
     "metadata": {},
     "output_type": "execute_result"
    }
   ],
   "source": [
    "model.fit(nont,target)"
   ]
  },
  {
   "cell_type": "code",
   "execution_count": 37,
   "metadata": {},
   "outputs": [
    {
     "data": {
      "text/plain": [
       "array([1], dtype=int64)"
      ]
     },
     "execution_count": 37,
     "metadata": {},
     "output_type": "execute_result"
    }
   ],
   "source": [
    "model.predict([[2,1,1]])"
   ]
  },
  {
   "cell_type": "code",
   "execution_count": 31,
   "metadata": {},
   "outputs": [
    {
     "data": {
      "text/html": [
       "<div>\n",
       "<style scoped>\n",
       "    .dataframe tbody tr th:only-of-type {\n",
       "        vertical-align: middle;\n",
       "    }\n",
       "\n",
       "    .dataframe tbody tr th {\n",
       "        vertical-align: top;\n",
       "    }\n",
       "\n",
       "    .dataframe thead th {\n",
       "        text-align: right;\n",
       "    }\n",
       "</style>\n",
       "<table border=\"1\" class=\"dataframe\">\n",
       "  <thead>\n",
       "    <tr style=\"text-align: right;\">\n",
       "      <th></th>\n",
       "      <th>comp_n</th>\n",
       "      <th>job_n</th>\n",
       "      <th>degree_n</th>\n",
       "    </tr>\n",
       "  </thead>\n",
       "  <tbody>\n",
       "    <tr>\n",
       "      <th>0</th>\n",
       "      <td>2</td>\n",
       "      <td>2</td>\n",
       "      <td>0</td>\n",
       "    </tr>\n",
       "    <tr>\n",
       "      <th>1</th>\n",
       "      <td>2</td>\n",
       "      <td>2</td>\n",
       "      <td>1</td>\n",
       "    </tr>\n",
       "    <tr>\n",
       "      <th>2</th>\n",
       "      <td>2</td>\n",
       "      <td>0</td>\n",
       "      <td>0</td>\n",
       "    </tr>\n",
       "    <tr>\n",
       "      <th>3</th>\n",
       "      <td>2</td>\n",
       "      <td>0</td>\n",
       "      <td>1</td>\n",
       "    </tr>\n",
       "    <tr>\n",
       "      <th>4</th>\n",
       "      <td>2</td>\n",
       "      <td>1</td>\n",
       "      <td>0</td>\n",
       "    </tr>\n",
       "  </tbody>\n",
       "</table>\n",
       "</div>"
      ],
      "text/plain": [
       "   comp_n  job_n  degree_n\n",
       "0       2      2         0\n",
       "1       2      2         1\n",
       "2       2      0         0\n",
       "3       2      0         1\n",
       "4       2      1         0"
      ]
     },
     "execution_count": 31,
     "metadata": {},
     "output_type": "execute_result"
    }
   ],
   "source": [
    "nont.head()"
   ]
  },
  {
   "cell_type": "code",
   "execution_count": 32,
   "metadata": {},
   "outputs": [
    {
     "data": {
      "text/plain": [
       "0    0\n",
       "1    0\n",
       "2    1\n",
       "3    1\n",
       "4    0\n",
       "Name: salary_more_then_100k, dtype: int64"
      ]
     },
     "execution_count": 32,
     "metadata": {},
     "output_type": "execute_result"
    }
   ],
   "source": [
    "target.head()"
   ]
  },
  {
   "cell_type": "code",
   "execution_count": 33,
   "metadata": {},
   "outputs": [
    {
     "data": {
      "text/plain": [
       "1.0"
      ]
     },
     "execution_count": 33,
     "metadata": {},
     "output_type": "execute_result"
    }
   ],
   "source": [
    "model.score(nont,target)"
   ]
  },
  {
   "cell_type": "code",
   "execution_count": 34,
   "metadata": {},
   "outputs": [
    {
     "data": {
      "text/html": [
       "<div>\n",
       "<style scoped>\n",
       "    .dataframe tbody tr th:only-of-type {\n",
       "        vertical-align: middle;\n",
       "    }\n",
       "\n",
       "    .dataframe tbody tr th {\n",
       "        vertical-align: top;\n",
       "    }\n",
       "\n",
       "    .dataframe thead th {\n",
       "        text-align: right;\n",
       "    }\n",
       "</style>\n",
       "<table border=\"1\" class=\"dataframe\">\n",
       "  <thead>\n",
       "    <tr style=\"text-align: right;\">\n",
       "      <th></th>\n",
       "      <th>company</th>\n",
       "      <th>job</th>\n",
       "      <th>degree</th>\n",
       "      <th>comp_n</th>\n",
       "      <th>job_n</th>\n",
       "      <th>degree_n</th>\n",
       "    </tr>\n",
       "  </thead>\n",
       "  <tbody>\n",
       "    <tr>\n",
       "      <th>0</th>\n",
       "      <td>google</td>\n",
       "      <td>sales executive</td>\n",
       "      <td>bachelors</td>\n",
       "      <td>2</td>\n",
       "      <td>2</td>\n",
       "      <td>0</td>\n",
       "    </tr>\n",
       "    <tr>\n",
       "      <th>1</th>\n",
       "      <td>google</td>\n",
       "      <td>sales executive</td>\n",
       "      <td>masters</td>\n",
       "      <td>2</td>\n",
       "      <td>2</td>\n",
       "      <td>1</td>\n",
       "    </tr>\n",
       "    <tr>\n",
       "      <th>2</th>\n",
       "      <td>google</td>\n",
       "      <td>business manager</td>\n",
       "      <td>bachelors</td>\n",
       "      <td>2</td>\n",
       "      <td>0</td>\n",
       "      <td>0</td>\n",
       "    </tr>\n",
       "    <tr>\n",
       "      <th>3</th>\n",
       "      <td>google</td>\n",
       "      <td>business manager</td>\n",
       "      <td>masters</td>\n",
       "      <td>2</td>\n",
       "      <td>0</td>\n",
       "      <td>1</td>\n",
       "    </tr>\n",
       "    <tr>\n",
       "      <th>4</th>\n",
       "      <td>google</td>\n",
       "      <td>computer programmer</td>\n",
       "      <td>bachelors</td>\n",
       "      <td>2</td>\n",
       "      <td>1</td>\n",
       "      <td>0</td>\n",
       "    </tr>\n",
       "    <tr>\n",
       "      <th>5</th>\n",
       "      <td>google</td>\n",
       "      <td>computer programmer</td>\n",
       "      <td>masters</td>\n",
       "      <td>2</td>\n",
       "      <td>1</td>\n",
       "      <td>1</td>\n",
       "    </tr>\n",
       "    <tr>\n",
       "      <th>6</th>\n",
       "      <td>abc pharma</td>\n",
       "      <td>sales executive</td>\n",
       "      <td>masters</td>\n",
       "      <td>0</td>\n",
       "      <td>2</td>\n",
       "      <td>1</td>\n",
       "    </tr>\n",
       "    <tr>\n",
       "      <th>7</th>\n",
       "      <td>abc pharma</td>\n",
       "      <td>computer programmer</td>\n",
       "      <td>bachelors</td>\n",
       "      <td>0</td>\n",
       "      <td>1</td>\n",
       "      <td>0</td>\n",
       "    </tr>\n",
       "    <tr>\n",
       "      <th>8</th>\n",
       "      <td>abc pharma</td>\n",
       "      <td>business manager</td>\n",
       "      <td>bachelors</td>\n",
       "      <td>0</td>\n",
       "      <td>0</td>\n",
       "      <td>0</td>\n",
       "    </tr>\n",
       "    <tr>\n",
       "      <th>9</th>\n",
       "      <td>abc pharma</td>\n",
       "      <td>business manager</td>\n",
       "      <td>masters</td>\n",
       "      <td>0</td>\n",
       "      <td>0</td>\n",
       "      <td>1</td>\n",
       "    </tr>\n",
       "    <tr>\n",
       "      <th>10</th>\n",
       "      <td>facebook</td>\n",
       "      <td>sales executive</td>\n",
       "      <td>bachelors</td>\n",
       "      <td>1</td>\n",
       "      <td>2</td>\n",
       "      <td>0</td>\n",
       "    </tr>\n",
       "    <tr>\n",
       "      <th>11</th>\n",
       "      <td>facebook</td>\n",
       "      <td>sales executive</td>\n",
       "      <td>masters</td>\n",
       "      <td>1</td>\n",
       "      <td>2</td>\n",
       "      <td>1</td>\n",
       "    </tr>\n",
       "    <tr>\n",
       "      <th>12</th>\n",
       "      <td>facebook</td>\n",
       "      <td>business manager</td>\n",
       "      <td>bachelors</td>\n",
       "      <td>1</td>\n",
       "      <td>0</td>\n",
       "      <td>0</td>\n",
       "    </tr>\n",
       "    <tr>\n",
       "      <th>13</th>\n",
       "      <td>facebook</td>\n",
       "      <td>business manager</td>\n",
       "      <td>masters</td>\n",
       "      <td>1</td>\n",
       "      <td>0</td>\n",
       "      <td>1</td>\n",
       "    </tr>\n",
       "    <tr>\n",
       "      <th>14</th>\n",
       "      <td>facebook</td>\n",
       "      <td>computer programmer</td>\n",
       "      <td>bachelors</td>\n",
       "      <td>1</td>\n",
       "      <td>1</td>\n",
       "      <td>0</td>\n",
       "    </tr>\n",
       "    <tr>\n",
       "      <th>15</th>\n",
       "      <td>facebook</td>\n",
       "      <td>computer programmer</td>\n",
       "      <td>masters</td>\n",
       "      <td>1</td>\n",
       "      <td>1</td>\n",
       "      <td>1</td>\n",
       "    </tr>\n",
       "  </tbody>\n",
       "</table>\n",
       "</div>"
      ],
      "text/plain": [
       "       company                  job     degree  comp_n  job_n  degree_n\n",
       "0       google      sales executive  bachelors       2      2         0\n",
       "1       google      sales executive    masters       2      2         1\n",
       "2       google     business manager  bachelors       2      0         0\n",
       "3       google     business manager    masters       2      0         1\n",
       "4       google  computer programmer  bachelors       2      1         0\n",
       "5       google  computer programmer    masters       2      1         1\n",
       "6   abc pharma      sales executive    masters       0      2         1\n",
       "7   abc pharma  computer programmer  bachelors       0      1         0\n",
       "8   abc pharma     business manager  bachelors       0      0         0\n",
       "9   abc pharma     business manager    masters       0      0         1\n",
       "10    facebook      sales executive  bachelors       1      2         0\n",
       "11    facebook      sales executive    masters       1      2         1\n",
       "12    facebook     business manager  bachelors       1      0         0\n",
       "13    facebook     business manager    masters       1      0         1\n",
       "14    facebook  computer programmer  bachelors       1      1         0\n",
       "15    facebook  computer programmer    masters       1      1         1"
      ]
     },
     "execution_count": 34,
     "metadata": {},
     "output_type": "execute_result"
    }
   ],
   "source": [
    "non_t"
   ]
  },
  {
   "cell_type": "markdown",
   "metadata": {},
   "source": [
    "# EXERCIES ON TITANIC DECESION TREE"
   ]
  },
  {
   "cell_type": "code",
   "execution_count": 60,
   "metadata": {},
   "outputs": [
    {
     "data": {
      "text/plain": [
       "LabelEncoder()"
      ]
     },
     "execution_count": 60,
     "metadata": {},
     "output_type": "execute_result"
    }
   ],
   "source": [
    "import numpy as np\n",
    "import pandas as pd\n",
    "from sklearn.preprocessing import LabelEncoder\n",
    "la=LabelEncoder()\n",
    "la"
   ]
  },
  {
   "cell_type": "code",
   "execution_count": 63,
   "metadata": {},
   "outputs": [
    {
     "data": {
      "text/html": [
       "<div>\n",
       "<style scoped>\n",
       "    .dataframe tbody tr th:only-of-type {\n",
       "        vertical-align: middle;\n",
       "    }\n",
       "\n",
       "    .dataframe tbody tr th {\n",
       "        vertical-align: top;\n",
       "    }\n",
       "\n",
       "    .dataframe thead th {\n",
       "        text-align: right;\n",
       "    }\n",
       "</style>\n",
       "<table border=\"1\" class=\"dataframe\">\n",
       "  <thead>\n",
       "    <tr style=\"text-align: right;\">\n",
       "      <th></th>\n",
       "      <th>PassengerId</th>\n",
       "      <th>Survived</th>\n",
       "      <th>Pclass</th>\n",
       "      <th>Name</th>\n",
       "      <th>Sex</th>\n",
       "      <th>Age</th>\n",
       "      <th>SibSp</th>\n",
       "      <th>Parch</th>\n",
       "      <th>Ticket</th>\n",
       "      <th>Fare</th>\n",
       "      <th>Cabin</th>\n",
       "      <th>Embarked</th>\n",
       "    </tr>\n",
       "  </thead>\n",
       "  <tbody>\n",
       "    <tr>\n",
       "      <th>0</th>\n",
       "      <td>1</td>\n",
       "      <td>0</td>\n",
       "      <td>3</td>\n",
       "      <td>Braund, Mr. Owen Harris</td>\n",
       "      <td>male</td>\n",
       "      <td>22.0</td>\n",
       "      <td>1</td>\n",
       "      <td>0</td>\n",
       "      <td>A/5 21171</td>\n",
       "      <td>7.2500</td>\n",
       "      <td>NaN</td>\n",
       "      <td>S</td>\n",
       "    </tr>\n",
       "    <tr>\n",
       "      <th>1</th>\n",
       "      <td>2</td>\n",
       "      <td>1</td>\n",
       "      <td>1</td>\n",
       "      <td>Cumings, Mrs. John Bradley (Florence Briggs Th...</td>\n",
       "      <td>female</td>\n",
       "      <td>38.0</td>\n",
       "      <td>1</td>\n",
       "      <td>0</td>\n",
       "      <td>PC 17599</td>\n",
       "      <td>71.2833</td>\n",
       "      <td>C85</td>\n",
       "      <td>C</td>\n",
       "    </tr>\n",
       "    <tr>\n",
       "      <th>2</th>\n",
       "      <td>3</td>\n",
       "      <td>1</td>\n",
       "      <td>3</td>\n",
       "      <td>Heikkinen, Miss. Laina</td>\n",
       "      <td>female</td>\n",
       "      <td>26.0</td>\n",
       "      <td>0</td>\n",
       "      <td>0</td>\n",
       "      <td>STON/O2. 3101282</td>\n",
       "      <td>7.9250</td>\n",
       "      <td>NaN</td>\n",
       "      <td>S</td>\n",
       "    </tr>\n",
       "    <tr>\n",
       "      <th>3</th>\n",
       "      <td>4</td>\n",
       "      <td>1</td>\n",
       "      <td>1</td>\n",
       "      <td>Futrelle, Mrs. Jacques Heath (Lily May Peel)</td>\n",
       "      <td>female</td>\n",
       "      <td>35.0</td>\n",
       "      <td>1</td>\n",
       "      <td>0</td>\n",
       "      <td>113803</td>\n",
       "      <td>53.1000</td>\n",
       "      <td>C123</td>\n",
       "      <td>S</td>\n",
       "    </tr>\n",
       "    <tr>\n",
       "      <th>4</th>\n",
       "      <td>5</td>\n",
       "      <td>0</td>\n",
       "      <td>3</td>\n",
       "      <td>Allen, Mr. William Henry</td>\n",
       "      <td>male</td>\n",
       "      <td>35.0</td>\n",
       "      <td>0</td>\n",
       "      <td>0</td>\n",
       "      <td>373450</td>\n",
       "      <td>8.0500</td>\n",
       "      <td>NaN</td>\n",
       "      <td>S</td>\n",
       "    </tr>\n",
       "  </tbody>\n",
       "</table>\n",
       "</div>"
      ],
      "text/plain": [
       "   PassengerId  Survived  Pclass  \\\n",
       "0            1         0       3   \n",
       "1            2         1       1   \n",
       "2            3         1       3   \n",
       "3            4         1       1   \n",
       "4            5         0       3   \n",
       "\n",
       "                                                Name     Sex   Age  SibSp  \\\n",
       "0                            Braund, Mr. Owen Harris    male  22.0      1   \n",
       "1  Cumings, Mrs. John Bradley (Florence Briggs Th...  female  38.0      1   \n",
       "2                             Heikkinen, Miss. Laina  female  26.0      0   \n",
       "3       Futrelle, Mrs. Jacques Heath (Lily May Peel)  female  35.0      1   \n",
       "4                           Allen, Mr. William Henry    male  35.0      0   \n",
       "\n",
       "   Parch            Ticket     Fare Cabin Embarked  \n",
       "0      0         A/5 21171   7.2500   NaN        S  \n",
       "1      0          PC 17599  71.2833   C85        C  \n",
       "2      0  STON/O2. 3101282   7.9250   NaN        S  \n",
       "3      0            113803  53.1000  C123        S  \n",
       "4      0            373450   8.0500   NaN        S  "
      ]
     },
     "execution_count": 63,
     "metadata": {},
     "output_type": "execute_result"
    }
   ],
   "source": [
    "se=pd.read_csv(\"C:\\\\Users\\\\hamza jamil\\\\Downloads\\\\Documents\\\\py-master\\\\ML\\\\9_decision_tree\\\\Exercise\\\\titanic.csv\")\n",
    "se.head()"
   ]
  },
  {
   "cell_type": "code",
   "execution_count": 66,
   "metadata": {},
   "outputs": [
    {
     "data": {
      "text/html": [
       "<div>\n",
       "<style scoped>\n",
       "    .dataframe tbody tr th:only-of-type {\n",
       "        vertical-align: middle;\n",
       "    }\n",
       "\n",
       "    .dataframe tbody tr th {\n",
       "        vertical-align: top;\n",
       "    }\n",
       "\n",
       "    .dataframe thead th {\n",
       "        text-align: right;\n",
       "    }\n",
       "</style>\n",
       "<table border=\"1\" class=\"dataframe\">\n",
       "  <thead>\n",
       "    <tr style=\"text-align: right;\">\n",
       "      <th></th>\n",
       "      <th>Survived</th>\n",
       "      <th>Pclass</th>\n",
       "      <th>Sex</th>\n",
       "      <th>Age</th>\n",
       "      <th>Fare</th>\n",
       "    </tr>\n",
       "  </thead>\n",
       "  <tbody>\n",
       "    <tr>\n",
       "      <th>0</th>\n",
       "      <td>0</td>\n",
       "      <td>3</td>\n",
       "      <td>male</td>\n",
       "      <td>22.0</td>\n",
       "      <td>7.2500</td>\n",
       "    </tr>\n",
       "    <tr>\n",
       "      <th>1</th>\n",
       "      <td>1</td>\n",
       "      <td>1</td>\n",
       "      <td>female</td>\n",
       "      <td>38.0</td>\n",
       "      <td>71.2833</td>\n",
       "    </tr>\n",
       "    <tr>\n",
       "      <th>2</th>\n",
       "      <td>1</td>\n",
       "      <td>3</td>\n",
       "      <td>female</td>\n",
       "      <td>26.0</td>\n",
       "      <td>7.9250</td>\n",
       "    </tr>\n",
       "    <tr>\n",
       "      <th>3</th>\n",
       "      <td>1</td>\n",
       "      <td>1</td>\n",
       "      <td>female</td>\n",
       "      <td>35.0</td>\n",
       "      <td>53.1000</td>\n",
       "    </tr>\n",
       "    <tr>\n",
       "      <th>4</th>\n",
       "      <td>0</td>\n",
       "      <td>3</td>\n",
       "      <td>male</td>\n",
       "      <td>35.0</td>\n",
       "      <td>8.0500</td>\n",
       "    </tr>\n",
       "  </tbody>\n",
       "</table>\n",
       "</div>"
      ],
      "text/plain": [
       "   Survived  Pclass     Sex   Age     Fare\n",
       "0         0       3    male  22.0   7.2500\n",
       "1         1       1  female  38.0  71.2833\n",
       "2         1       3  female  26.0   7.9250\n",
       "3         1       1  female  35.0  53.1000\n",
       "4         0       3    male  35.0   8.0500"
      ]
     },
     "execution_count": 66,
     "metadata": {},
     "output_type": "execute_result"
    }
   ],
   "source": [
    "dr=se.drop(['PassengerId','Name','Ticket','Embarked','SibSp','Parch','Cabin'],axis='columns')\n",
    "dr.head()"
   ]
  },
  {
   "cell_type": "code",
   "execution_count": 80,
   "metadata": {},
   "outputs": [
    {
     "data": {
      "text/html": [
       "<div>\n",
       "<style scoped>\n",
       "    .dataframe tbody tr th:only-of-type {\n",
       "        vertical-align: middle;\n",
       "    }\n",
       "\n",
       "    .dataframe tbody tr th {\n",
       "        vertical-align: top;\n",
       "    }\n",
       "\n",
       "    .dataframe thead th {\n",
       "        text-align: right;\n",
       "    }\n",
       "</style>\n",
       "<table border=\"1\" class=\"dataframe\">\n",
       "  <thead>\n",
       "    <tr style=\"text-align: right;\">\n",
       "      <th></th>\n",
       "      <th>Pclass</th>\n",
       "      <th>Sex</th>\n",
       "      <th>Age</th>\n",
       "      <th>Fare</th>\n",
       "    </tr>\n",
       "  </thead>\n",
       "  <tbody>\n",
       "    <tr>\n",
       "      <th>0</th>\n",
       "      <td>3</td>\n",
       "      <td>male</td>\n",
       "      <td>22.0</td>\n",
       "      <td>7.2500</td>\n",
       "    </tr>\n",
       "    <tr>\n",
       "      <th>1</th>\n",
       "      <td>1</td>\n",
       "      <td>female</td>\n",
       "      <td>38.0</td>\n",
       "      <td>71.2833</td>\n",
       "    </tr>\n",
       "    <tr>\n",
       "      <th>2</th>\n",
       "      <td>3</td>\n",
       "      <td>female</td>\n",
       "      <td>26.0</td>\n",
       "      <td>7.9250</td>\n",
       "    </tr>\n",
       "    <tr>\n",
       "      <th>3</th>\n",
       "      <td>1</td>\n",
       "      <td>female</td>\n",
       "      <td>35.0</td>\n",
       "      <td>53.1000</td>\n",
       "    </tr>\n",
       "    <tr>\n",
       "      <th>4</th>\n",
       "      <td>3</td>\n",
       "      <td>male</td>\n",
       "      <td>35.0</td>\n",
       "      <td>8.0500</td>\n",
       "    </tr>\n",
       "  </tbody>\n",
       "</table>\n",
       "</div>"
      ],
      "text/plain": [
       "   Pclass     Sex   Age     Fare\n",
       "0       3    male  22.0   7.2500\n",
       "1       1  female  38.0  71.2833\n",
       "2       3  female  26.0   7.9250\n",
       "3       1  female  35.0  53.1000\n",
       "4       3    male  35.0   8.0500"
      ]
     },
     "execution_count": 80,
     "metadata": {},
     "output_type": "execute_result"
    }
   ],
   "source": [
    "dr1=dr.drop(['Survived'],axis='columns')\n",
    "dr1.head()"
   ]
  },
  {
   "cell_type": "code",
   "execution_count": 82,
   "metadata": {},
   "outputs": [],
   "source": [
    "targ=dr.Survived\n"
   ]
  },
  {
   "cell_type": "code",
   "execution_count": 83,
   "metadata": {},
   "outputs": [
    {
     "data": {
      "text/plain": [
       "LabelEncoder()"
      ]
     },
     "execution_count": 83,
     "metadata": {},
     "output_type": "execute_result"
    }
   ],
   "source": [
    "from sklearn.preprocessing import LabelEncoder\n",
    "en=LabelEncoder()\n",
    "en"
   ]
  },
  {
   "cell_type": "code",
   "execution_count": 84,
   "metadata": {},
   "outputs": [],
   "source": [
    "sex=en\n",
    "#non_t['comp_n']=comp1.fit_transform(non_t['company'])"
   ]
  },
  {
   "cell_type": "code",
   "execution_count": 85,
   "metadata": {},
   "outputs": [
    {
     "data": {
      "text/html": [
       "<div>\n",
       "<style scoped>\n",
       "    .dataframe tbody tr th:only-of-type {\n",
       "        vertical-align: middle;\n",
       "    }\n",
       "\n",
       "    .dataframe tbody tr th {\n",
       "        vertical-align: top;\n",
       "    }\n",
       "\n",
       "    .dataframe thead th {\n",
       "        text-align: right;\n",
       "    }\n",
       "</style>\n",
       "<table border=\"1\" class=\"dataframe\">\n",
       "  <thead>\n",
       "    <tr style=\"text-align: right;\">\n",
       "      <th></th>\n",
       "      <th>Pclass</th>\n",
       "      <th>Sex</th>\n",
       "      <th>Age</th>\n",
       "      <th>Fare</th>\n",
       "      <th>sex_n</th>\n",
       "    </tr>\n",
       "  </thead>\n",
       "  <tbody>\n",
       "    <tr>\n",
       "      <th>0</th>\n",
       "      <td>3</td>\n",
       "      <td>male</td>\n",
       "      <td>22.0</td>\n",
       "      <td>7.2500</td>\n",
       "      <td>1</td>\n",
       "    </tr>\n",
       "    <tr>\n",
       "      <th>1</th>\n",
       "      <td>1</td>\n",
       "      <td>female</td>\n",
       "      <td>38.0</td>\n",
       "      <td>71.2833</td>\n",
       "      <td>0</td>\n",
       "    </tr>\n",
       "    <tr>\n",
       "      <th>2</th>\n",
       "      <td>3</td>\n",
       "      <td>female</td>\n",
       "      <td>26.0</td>\n",
       "      <td>7.9250</td>\n",
       "      <td>0</td>\n",
       "    </tr>\n",
       "    <tr>\n",
       "      <th>3</th>\n",
       "      <td>1</td>\n",
       "      <td>female</td>\n",
       "      <td>35.0</td>\n",
       "      <td>53.1000</td>\n",
       "      <td>0</td>\n",
       "    </tr>\n",
       "    <tr>\n",
       "      <th>4</th>\n",
       "      <td>3</td>\n",
       "      <td>male</td>\n",
       "      <td>35.0</td>\n",
       "      <td>8.0500</td>\n",
       "      <td>1</td>\n",
       "    </tr>\n",
       "  </tbody>\n",
       "</table>\n",
       "</div>"
      ],
      "text/plain": [
       "   Pclass     Sex   Age     Fare  sex_n\n",
       "0       3    male  22.0   7.2500      1\n",
       "1       1  female  38.0  71.2833      0\n",
       "2       3  female  26.0   7.9250      0\n",
       "3       1  female  35.0  53.1000      0\n",
       "4       3    male  35.0   8.0500      1"
      ]
     },
     "execution_count": 85,
     "metadata": {},
     "output_type": "execute_result"
    }
   ],
   "source": [
    "dr1['sex_n']=sex.fit_transform(dr1['Sex'])\n",
    "dr1.head()"
   ]
  },
  {
   "cell_type": "code",
   "execution_count": 87,
   "metadata": {},
   "outputs": [
    {
     "data": {
      "text/html": [
       "<div>\n",
       "<style scoped>\n",
       "    .dataframe tbody tr th:only-of-type {\n",
       "        vertical-align: middle;\n",
       "    }\n",
       "\n",
       "    .dataframe tbody tr th {\n",
       "        vertical-align: top;\n",
       "    }\n",
       "\n",
       "    .dataframe thead th {\n",
       "        text-align: right;\n",
       "    }\n",
       "</style>\n",
       "<table border=\"1\" class=\"dataframe\">\n",
       "  <thead>\n",
       "    <tr style=\"text-align: right;\">\n",
       "      <th></th>\n",
       "      <th>Pclass</th>\n",
       "      <th>Age</th>\n",
       "      <th>Fare</th>\n",
       "      <th>sex_n</th>\n",
       "    </tr>\n",
       "  </thead>\n",
       "  <tbody>\n",
       "    <tr>\n",
       "      <th>0</th>\n",
       "      <td>3</td>\n",
       "      <td>22.0</td>\n",
       "      <td>7.2500</td>\n",
       "      <td>1</td>\n",
       "    </tr>\n",
       "    <tr>\n",
       "      <th>1</th>\n",
       "      <td>1</td>\n",
       "      <td>38.0</td>\n",
       "      <td>71.2833</td>\n",
       "      <td>0</td>\n",
       "    </tr>\n",
       "    <tr>\n",
       "      <th>2</th>\n",
       "      <td>3</td>\n",
       "      <td>26.0</td>\n",
       "      <td>7.9250</td>\n",
       "      <td>0</td>\n",
       "    </tr>\n",
       "    <tr>\n",
       "      <th>3</th>\n",
       "      <td>1</td>\n",
       "      <td>35.0</td>\n",
       "      <td>53.1000</td>\n",
       "      <td>0</td>\n",
       "    </tr>\n",
       "    <tr>\n",
       "      <th>4</th>\n",
       "      <td>3</td>\n",
       "      <td>35.0</td>\n",
       "      <td>8.0500</td>\n",
       "      <td>1</td>\n",
       "    </tr>\n",
       "  </tbody>\n",
       "</table>\n",
       "</div>"
      ],
      "text/plain": [
       "   Pclass   Age     Fare  sex_n\n",
       "0       3  22.0   7.2500      1\n",
       "1       1  38.0  71.2833      0\n",
       "2       3  26.0   7.9250      0\n",
       "3       1  35.0  53.1000      0\n",
       "4       3  35.0   8.0500      1"
      ]
     },
     "execution_count": 87,
     "metadata": {},
     "output_type": "execute_result"
    }
   ],
   "source": [
    "dro=dr1.drop('Sex',axis='columns')\n",
    "dro.head()"
   ]
  },
  {
   "cell_type": "code",
   "execution_count": 93,
   "metadata": {},
   "outputs": [],
   "source": [
    "#here we clean our data by using fillna method\n",
    "#dro.Age=dro.Age.fillna(dro.Age.mean())\n",
    "#dro\n",
    "dro.Age = dro.Age.fillna(dro.Age.mean())"
   ]
  },
  {
   "cell_type": "code",
   "execution_count": 96,
   "metadata": {},
   "outputs": [
    {
     "data": {
      "text/html": [
       "<div>\n",
       "<style scoped>\n",
       "    .dataframe tbody tr th:only-of-type {\n",
       "        vertical-align: middle;\n",
       "    }\n",
       "\n",
       "    .dataframe tbody tr th {\n",
       "        vertical-align: top;\n",
       "    }\n",
       "\n",
       "    .dataframe thead th {\n",
       "        text-align: right;\n",
       "    }\n",
       "</style>\n",
       "<table border=\"1\" class=\"dataframe\">\n",
       "  <thead>\n",
       "    <tr style=\"text-align: right;\">\n",
       "      <th></th>\n",
       "      <th>Pclass</th>\n",
       "      <th>Age</th>\n",
       "      <th>Fare</th>\n",
       "      <th>sex_n</th>\n",
       "    </tr>\n",
       "  </thead>\n",
       "  <tbody>\n",
       "    <tr>\n",
       "      <th>0</th>\n",
       "      <td>3</td>\n",
       "      <td>22.0</td>\n",
       "      <td>7.2500</td>\n",
       "      <td>1</td>\n",
       "    </tr>\n",
       "    <tr>\n",
       "      <th>1</th>\n",
       "      <td>1</td>\n",
       "      <td>38.0</td>\n",
       "      <td>71.2833</td>\n",
       "      <td>0</td>\n",
       "    </tr>\n",
       "    <tr>\n",
       "      <th>2</th>\n",
       "      <td>3</td>\n",
       "      <td>26.0</td>\n",
       "      <td>7.9250</td>\n",
       "      <td>0</td>\n",
       "    </tr>\n",
       "    <tr>\n",
       "      <th>3</th>\n",
       "      <td>1</td>\n",
       "      <td>35.0</td>\n",
       "      <td>53.1000</td>\n",
       "      <td>0</td>\n",
       "    </tr>\n",
       "    <tr>\n",
       "      <th>4</th>\n",
       "      <td>3</td>\n",
       "      <td>35.0</td>\n",
       "      <td>8.0500</td>\n",
       "      <td>1</td>\n",
       "    </tr>\n",
       "  </tbody>\n",
       "</table>\n",
       "</div>"
      ],
      "text/plain": [
       "   Pclass   Age     Fare  sex_n\n",
       "0       3  22.0   7.2500      1\n",
       "1       1  38.0  71.2833      0\n",
       "2       3  26.0   7.9250      0\n",
       "3       1  35.0  53.1000      0\n",
       "4       3  35.0   8.0500      1"
      ]
     },
     "execution_count": 96,
     "metadata": {},
     "output_type": "execute_result"
    }
   ],
   "source": [
    "dro.head()"
   ]
  },
  {
   "cell_type": "code",
   "execution_count": 105,
   "metadata": {},
   "outputs": [],
   "source": [
    "from sklearn.model_selection import train_test_split\n",
    "X_train, X_test, y_train, y_test=train_test_split(dro,targ,test_size=0.2)"
   ]
  },
  {
   "cell_type": "code",
   "execution_count": 106,
   "metadata": {},
   "outputs": [
    {
     "data": {
      "text/plain": [
       "DecisionTreeClassifier(class_weight=None, criterion='gini', max_depth=None,\n",
       "            max_features=None, max_leaf_nodes=None,\n",
       "            min_impurity_decrease=0.0, min_impurity_split=None,\n",
       "            min_samples_leaf=1, min_samples_split=2,\n",
       "            min_weight_fraction_leaf=0.0, presort=False, random_state=None,\n",
       "            splitter='best')"
      ]
     },
     "execution_count": 106,
     "metadata": {},
     "output_type": "execute_result"
    }
   ],
   "source": [
    "from sklearn import tree\n",
    "tr=tree.DecisionTreeClassifier()\n",
    "tr"
   ]
  },
  {
   "cell_type": "code",
   "execution_count": 107,
   "metadata": {},
   "outputs": [
    {
     "data": {
      "text/plain": [
       "DecisionTreeClassifier(class_weight=None, criterion='gini', max_depth=None,\n",
       "            max_features=None, max_leaf_nodes=None,\n",
       "            min_impurity_decrease=0.0, min_impurity_split=None,\n",
       "            min_samples_leaf=1, min_samples_split=2,\n",
       "            min_weight_fraction_leaf=0.0, presort=False, random_state=None,\n",
       "            splitter='best')"
      ]
     },
     "execution_count": 107,
     "metadata": {},
     "output_type": "execute_result"
    }
   ],
   "source": [
    "tr.fit(X_train,y_train)"
   ]
  },
  {
   "cell_type": "code",
   "execution_count": 108,
   "metadata": {},
   "outputs": [
    {
     "data": {
      "text/plain": [
       "0.776536312849162"
      ]
     },
     "execution_count": 108,
     "metadata": {},
     "output_type": "execute_result"
    }
   ],
   "source": [
    "tr.score(X_test,y_test)"
   ]
  },
  {
   "cell_type": "code",
   "execution_count": 109,
   "metadata": {},
   "outputs": [
    {
     "data": {
      "text/plain": [
       "array([0, 1, 1, 0, 1, 0, 1, 0, 0, 0, 1, 0, 1, 1, 0, 0, 0, 1, 1, 1, 1, 0,\n",
       "       0, 1, 0, 0, 0, 0, 0, 1, 0, 0, 0, 0, 0, 0, 1, 0, 0, 1, 0, 1, 1, 1,\n",
       "       1, 0, 0, 0, 0, 0, 0, 0, 0, 0, 1, 1, 0, 0, 0, 0, 0, 1, 0, 1, 1, 0,\n",
       "       1, 0, 1, 0, 0, 0, 0, 0, 0, 0, 1, 1, 0, 1, 1, 1, 0, 0, 0, 0, 1, 1,\n",
       "       0, 1, 0, 0, 0, 1, 0, 1, 0, 0, 0, 0, 0, 0, 0, 1, 0, 0, 1, 0, 0, 0,\n",
       "       1, 1, 0, 0, 0, 0, 0, 1, 1, 1, 0, 0, 0, 0, 1, 0, 0, 1, 1, 1, 0, 0,\n",
       "       1, 0, 1, 0, 0, 0, 1, 0, 1, 1, 1, 0, 1, 1, 0, 1, 0, 0, 0, 1, 1, 0,\n",
       "       0, 0, 0, 0, 0, 0, 0, 0, 1, 0, 0, 0, 1, 1, 1, 0, 0, 1, 0, 1, 1, 0,\n",
       "       0, 1, 0], dtype=int64)"
      ]
     },
     "execution_count": 109,
     "metadata": {},
     "output_type": "execute_result"
    }
   ],
   "source": [
    "tr.predict(X_test)"
   ]
  },
  {
   "cell_type": "code",
   "execution_count": 112,
   "metadata": {},
   "outputs": [
    {
     "data": {
      "text/plain": [
       "array([1], dtype=int64)"
      ]
     },
     "execution_count": 112,
     "metadata": {},
     "output_type": "execute_result"
    }
   ],
   "source": [
    "tr.predict([[1,0,38.0,71.2833]])"
   ]
  },
  {
   "cell_type": "code",
   "execution_count": 113,
   "metadata": {},
   "outputs": [
    {
     "data": {
      "text/plain": [
       "0.776536312849162"
      ]
     },
     "execution_count": 113,
     "metadata": {},
     "output_type": "execute_result"
    }
   ],
   "source": [
    "tr.score(X_test,y_test)"
   ]
  },
  {
   "cell_type": "code",
   "execution_count": 114,
   "metadata": {},
   "outputs": [
    {
     "data": {
      "text/plain": [
       "0.9845505617977528"
      ]
     },
     "execution_count": 114,
     "metadata": {},
     "output_type": "execute_result"
    }
   ],
   "source": [
    "tr.score(X_train,y_train)"
   ]
  },
  {
   "cell_type": "code",
   "execution_count": 7,
   "metadata": {},
   "outputs": [
    {
     "data": {
      "text/plain": [
       "()"
      ]
     },
     "execution_count": 7,
     "metadata": {},
     "output_type": "execute_result"
    }
   ],
   "source": [
    "import numpy as np\n",
    "data = np.load(r'C:\\Users\\hamza jamil\\Downloads\\Video\\rate.npy')\n",
    "data.shape"
   ]
  },
  {
   "cell_type": "code",
   "execution_count": 11,
   "metadata": {},
   "outputs": [],
   "source": [
    "import pandas as pd\n",
    "d=pd.read_excel(r'C:\\Users\\hamza jamil\\Downloads\\tuetravelexpenses.xlsx')\n"
   ]
  },
  {
   "cell_type": "code",
   "execution_count": 12,
   "metadata": {},
   "outputs": [
    {
     "data": {
      "text/html": [
       "<div>\n",
       "<style scoped>\n",
       "    .dataframe tbody tr th:only-of-type {\n",
       "        vertical-align: middle;\n",
       "    }\n",
       "\n",
       "    .dataframe tbody tr th {\n",
       "        vertical-align: top;\n",
       "    }\n",
       "\n",
       "    .dataframe thead th {\n",
       "        text-align: right;\n",
       "    }\n",
       "</style>\n",
       "<table border=\"1\" class=\"dataframe\">\n",
       "  <thead>\n",
       "    <tr style=\"text-align: right;\">\n",
       "      <th></th>\n",
       "      <th>event_id</th>\n",
       "      <th>CASE_concept_name</th>\n",
       "      <th>CASE_ID</th>\n",
       "      <th>CASE_Amount</th>\n",
       "      <th>CASE_BudgetNumber</th>\n",
       "      <th>CASE_Permit_ID</th>\n",
       "      <th>CASE_Permit_RequestedBudget</th>\n",
       "      <th>CASE_Permit_BudgetNumber</th>\n",
       "      <th>CASE_Permit_OrganizationalEntity</th>\n",
       "      <th>CASE_Permit_ProjectNumber</th>\n",
       "      <th>CASE_Permit_TaskNumber</th>\n",
       "      <th>activity_id</th>\n",
       "      <th>id</th>\n",
       "      <th>resource_id</th>\n",
       "      <th>org_role</th>\n",
       "      <th>timestamp</th>\n",
       "      <th>activity_instance_id</th>\n",
       "      <th>.order</th>\n",
       "    </tr>\n",
       "  </thead>\n",
       "  <tbody>\n",
       "    <tr>\n",
       "      <td>0</td>\n",
       "      <td>1</td>\n",
       "      <td>declaration 76457</td>\n",
       "      <td>declaration 76457</td>\n",
       "      <td>40</td>\n",
       "      <td>budget 144133</td>\n",
       "      <td>travel permit 76455</td>\n",
       "      <td>42</td>\n",
       "      <td>budget 922</td>\n",
       "      <td>organizational unit 65458</td>\n",
       "      <td>UNKNOWN</td>\n",
       "      <td>UNKNOWN</td>\n",
       "      <td>Start trip</td>\n",
       "      <td>rv_travel permit 76455_6</td>\n",
       "      <td>STAFF MEMBER</td>\n",
       "      <td>EMPLOYEE</td>\n",
       "      <td>2016-10-04 22:00:00</td>\n",
       "      <td>1</td>\n",
       "      <td>1</td>\n",
       "    </tr>\n",
       "    <tr>\n",
       "      <td>1</td>\n",
       "      <td>2</td>\n",
       "      <td>declaration 76457</td>\n",
       "      <td>declaration 76457</td>\n",
       "      <td>40</td>\n",
       "      <td>budget 144133</td>\n",
       "      <td>travel permit 76455</td>\n",
       "      <td>42</td>\n",
       "      <td>budget 922</td>\n",
       "      <td>organizational unit 65458</td>\n",
       "      <td>UNKNOWN</td>\n",
       "      <td>UNKNOWN</td>\n",
       "      <td>End trip</td>\n",
       "      <td>rv_travel permit 76455_7</td>\n",
       "      <td>STAFF MEMBER</td>\n",
       "      <td>EMPLOYEE</td>\n",
       "      <td>2016-10-04 22:00:00</td>\n",
       "      <td>2</td>\n",
       "      <td>2</td>\n",
       "    </tr>\n",
       "    <tr>\n",
       "      <td>2</td>\n",
       "      <td>3</td>\n",
       "      <td>declaration 76457</td>\n",
       "      <td>declaration 76457</td>\n",
       "      <td>40</td>\n",
       "      <td>budget 144133</td>\n",
       "      <td>travel permit 76455</td>\n",
       "      <td>42</td>\n",
       "      <td>budget 922</td>\n",
       "      <td>organizational unit 65458</td>\n",
       "      <td>UNKNOWN</td>\n",
       "      <td>UNKNOWN</td>\n",
       "      <td>Permit SUBMITTED by EMPLOYEE</td>\n",
       "      <td>st_step 76459_0</td>\n",
       "      <td>STAFF MEMBER</td>\n",
       "      <td>EMPLOYEE</td>\n",
       "      <td>2017-04-06 11:32:10</td>\n",
       "      <td>3</td>\n",
       "      <td>3</td>\n",
       "    </tr>\n",
       "    <tr>\n",
       "      <td>3</td>\n",
       "      <td>4</td>\n",
       "      <td>declaration 76457</td>\n",
       "      <td>declaration 76457</td>\n",
       "      <td>40</td>\n",
       "      <td>budget 144133</td>\n",
       "      <td>travel permit 76455</td>\n",
       "      <td>42</td>\n",
       "      <td>budget 922</td>\n",
       "      <td>organizational unit 65458</td>\n",
       "      <td>UNKNOWN</td>\n",
       "      <td>UNKNOWN</td>\n",
       "      <td>Permit FINAL_APPROVED by SUPERVISOR</td>\n",
       "      <td>st_step 76460_0</td>\n",
       "      <td>STAFF MEMBER</td>\n",
       "      <td>SUPERVISOR</td>\n",
       "      <td>2017-04-06 11:32:28</td>\n",
       "      <td>4</td>\n",
       "      <td>4</td>\n",
       "    </tr>\n",
       "    <tr>\n",
       "      <td>4</td>\n",
       "      <td>5</td>\n",
       "      <td>declaration 76457</td>\n",
       "      <td>declaration 76457</td>\n",
       "      <td>40</td>\n",
       "      <td>budget 144133</td>\n",
       "      <td>travel permit 76455</td>\n",
       "      <td>42</td>\n",
       "      <td>budget 922</td>\n",
       "      <td>organizational unit 65458</td>\n",
       "      <td>UNKNOWN</td>\n",
       "      <td>UNKNOWN</td>\n",
       "      <td>Declaration SUBMITTED by EMPLOYEE</td>\n",
       "      <td>st_step 76461_0</td>\n",
       "      <td>STAFF MEMBER</td>\n",
       "      <td>EMPLOYEE</td>\n",
       "      <td>2017-04-07 11:38:14</td>\n",
       "      <td>5</td>\n",
       "      <td>5</td>\n",
       "    </tr>\n",
       "  </tbody>\n",
       "</table>\n",
       "</div>"
      ],
      "text/plain": [
       "   event_id  CASE_concept_name            CASE_ID  CASE_Amount  \\\n",
       "0         1  declaration 76457  declaration 76457           40   \n",
       "1         2  declaration 76457  declaration 76457           40   \n",
       "2         3  declaration 76457  declaration 76457           40   \n",
       "3         4  declaration 76457  declaration 76457           40   \n",
       "4         5  declaration 76457  declaration 76457           40   \n",
       "\n",
       "  CASE_BudgetNumber       CASE_Permit_ID  CASE_Permit_RequestedBudget  \\\n",
       "0     budget 144133  travel permit 76455                           42   \n",
       "1     budget 144133  travel permit 76455                           42   \n",
       "2     budget 144133  travel permit 76455                           42   \n",
       "3     budget 144133  travel permit 76455                           42   \n",
       "4     budget 144133  travel permit 76455                           42   \n",
       "\n",
       "  CASE_Permit_BudgetNumber CASE_Permit_OrganizationalEntity  \\\n",
       "0               budget 922        organizational unit 65458   \n",
       "1               budget 922        organizational unit 65458   \n",
       "2               budget 922        organizational unit 65458   \n",
       "3               budget 922        organizational unit 65458   \n",
       "4               budget 922        organizational unit 65458   \n",
       "\n",
       "  CASE_Permit_ProjectNumber CASE_Permit_TaskNumber  \\\n",
       "0                   UNKNOWN                UNKNOWN   \n",
       "1                   UNKNOWN                UNKNOWN   \n",
       "2                   UNKNOWN                UNKNOWN   \n",
       "3                   UNKNOWN                UNKNOWN   \n",
       "4                   UNKNOWN                UNKNOWN   \n",
       "\n",
       "                           activity_id                        id  \\\n",
       "0                           Start trip  rv_travel permit 76455_6   \n",
       "1                             End trip  rv_travel permit 76455_7   \n",
       "2         Permit SUBMITTED by EMPLOYEE           st_step 76459_0   \n",
       "3  Permit FINAL_APPROVED by SUPERVISOR           st_step 76460_0   \n",
       "4    Declaration SUBMITTED by EMPLOYEE           st_step 76461_0   \n",
       "\n",
       "    resource_id    org_role           timestamp  activity_instance_id  .order  \n",
       "0  STAFF MEMBER    EMPLOYEE 2016-10-04 22:00:00                     1       1  \n",
       "1  STAFF MEMBER    EMPLOYEE 2016-10-04 22:00:00                     2       2  \n",
       "2  STAFF MEMBER    EMPLOYEE 2017-04-06 11:32:10                     3       3  \n",
       "3  STAFF MEMBER  SUPERVISOR 2017-04-06 11:32:28                     4       4  \n",
       "4  STAFF MEMBER    EMPLOYEE 2017-04-07 11:38:14                     5       5  "
      ]
     },
     "execution_count": 12,
     "metadata": {},
     "output_type": "execute_result"
    }
   ],
   "source": [
    "d.head()"
   ]
  },
  {
   "cell_type": "code",
   "execution_count": 17,
   "metadata": {},
   "outputs": [
    {
     "name": "stdout",
     "output_type": "stream",
     "text": [
      "6449\n",
      "['declaration 76457' 'declaration 76667' 'declaration 73654' ...\n",
      " 'declaration 13458' 'declaration 13216' 'declaration 13232']\n"
     ]
    }
   ],
   "source": [
    "print(len(d.CASE_concept_name.unique()))\n",
    "print(d.CASE_concept_name.unique())"
   ]
  },
  {
   "cell_type": "code",
   "execution_count": 20,
   "metadata": {},
   "outputs": [
    {
     "name": "stdout",
     "output_type": "stream",
     "text": [
      "6449\n",
      "['declaration 76457' 'declaration 76667' 'declaration 73654' ...\n",
      " 'declaration 13458' 'declaration 13216' 'declaration 13232']\n"
     ]
    }
   ],
   "source": [
    "print(len(d.CASE_ID.unique()))\n",
    "print(d.CASE_ID.unique())\n"
   ]
  },
  {
   "cell_type": "code",
   "execution_count": 21,
   "metadata": {},
   "outputs": [
    {
     "data": {
      "text/plain": [
       "array([  40,  347,   57, ..., 1665,  660, 1820], dtype=int64)"
      ]
     },
     "execution_count": 21,
     "metadata": {},
     "output_type": "execute_result"
    }
   ],
   "source": [
    "d.CASE_Amount.unique()"
   ]
  },
  {
   "cell_type": "code",
   "execution_count": 22,
   "metadata": {},
   "outputs": [
    {
     "data": {
      "text/plain": [
       "2086"
      ]
     },
     "execution_count": 22,
     "metadata": {},
     "output_type": "execute_result"
    }
   ],
   "source": [
    "len(d.CASE_Amount.unique())"
   ]
  },
  {
   "cell_type": "code",
   "execution_count": 24,
   "metadata": {},
   "outputs": [
    {
     "data": {
      "text/plain": [
       "array(['budget 144133', 'budget 144054', 'budget 143677', 'budget 143495',\n",
       "       'budget 143921', 'budget 143641', 'budget 143485', 'budget 143648',\n",
       "       'budget 143506', 'budget 144030', 'budget 144809', 'budget 143582',\n",
       "       'budget 144349', 'budget 143810', 'budget 144011', 'budget 143674',\n",
       "       'budget 143538', 'budget 144123', 'budget 143857', 'budget 143466',\n",
       "       'budget 143661', 'budget 143602', 'budget 143609', 'budget 143615',\n",
       "       'budget 143471', 'budget 143957', 'budget 144514', 'budget 143694',\n",
       "       'budget 143835', 'budget 144482', 'budget 143977', 'UNKNOWN',\n",
       "       'budget 144568', 'budget 144500', 'budget 143876', 'budget 143545',\n",
       "       'budget 143833', 'budget 143853', 'budget 143621', 'budget 143932',\n",
       "       'budget 144072', 'budget 144162', 'budget 143775', 'budget 143634',\n",
       "       'budget 144190', 'budget 143972', 'budget 143569', 'budget 143684',\n",
       "       'budget 143577', 'budget 144016', 'budget 144157', 'budget 143478',\n",
       "       'budget 144382', 'budget 143683', 'budget 144259', 'budget 144330',\n",
       "       'budget 144621', 'budget 144615', 'budget 143492', 'budget 144699',\n",
       "       'budget 143523', 'budget 144339', 'budget 144472', 'budget 144686',\n",
       "       'budget 143831', 'budget 143678', 'budget 143550', 'budget 143574',\n",
       "       'budget 143783', 'budget 143855', 'budget 143877', 'budget 144075',\n",
       "       'budget 144073', 'budget 143685', 'budget 144362', 'budget 143762',\n",
       "       'budget 144090', 'budget 144156', 'budget 143865', 'budget 144170',\n",
       "       'budget 144189', 'budget 144724', 'budget 144325', 'budget 144831',\n",
       "       'budget 144064', 'budget 144146', 'budget 144273', 'budget 143971',\n",
       "       'budget 143748', 'budget 143839', 'budget 143771', 'budget 143983',\n",
       "       'budget 144153', 'budget 144658', 'budget 144911', 'budget 144126',\n",
       "       'budget 144236', 'budget 144124', 'budget 144429', 'budget 144022',\n",
       "       'budget 144301', 'budget 144031', 'budget 143941', 'budget 143897',\n",
       "       'budget 144496', 'budget 144649', 'budget 143793', 'budget 143913',\n",
       "       'budget 144731', 'budget 144384', 'budget 143896', 'budget 144346',\n",
       "       'budget 144363', 'budget 144284', 'budget 144077', 'budget 144670',\n",
       "       'budget 144383', 'budget 144071', 'budget 144945', 'budget 143916',\n",
       "       'budget 144704', 'budget 143799', 'budget 144226', 'budget 143823',\n",
       "       'budget 144078', 'budget 143712', 'budget 143990', 'budget 144483',\n",
       "       'budget 143933', 'budget 144652', 'budget 144458', 'budget 144233',\n",
       "       'budget 144787', 'budget 143807', 'budget 144027', 'budget 144241',\n",
       "       'budget 144585', 'budget 144410', 'budget 144794', 'budget 144322',\n",
       "       'budget 144298', 'budget 144511', 'budget 144676', 'budget 144683',\n",
       "       'budget 144061', 'budget 143928', 'budget 144898', 'budget 144540',\n",
       "       'budget 144128', 'budget 143811', 'budget 144430', 'budget 144882',\n",
       "       'budget 144260', 'budget 143754', 'budget 143834', 'budget 143746',\n",
       "       'budget 144192', 'budget 143737', 'budget 143706', 'budget 143680',\n",
       "       'budget 143837', 'budget 143960', 'budget 144668', 'budget 143952',\n",
       "       'budget 143852', 'budget 143824', 'budget 144404', 'budget 144894',\n",
       "       'budget 143772', 'budget 143773', 'budget 144484', 'budget 143889',\n",
       "       'budget 143981', 'budget 144004', 'budget 144191', 'budget 144005',\n",
       "       'budget 144413', 'budget 144983', 'budget 143686', 'budget 143914',\n",
       "       'budget 144125', 'budget 144120', 'budget 143716', 'budget 144872',\n",
       "       'budget 144044', 'budget 145820', 'budget 144671', 'budget 144667',\n",
       "       'budget 143915', 'budget 143988', 'budget 144144', 'budget 144007',\n",
       "       'budget 144122', 'budget 143780', 'budget 144669', 'budget 144334',\n",
       "       'budget 143859', 'budget 144864', 'budget 144185', 'budget 144256',\n",
       "       'budget 143749', 'budget 143758', 'budget 143692', 'budget 144541',\n",
       "       'budget 143905', 'budget 144198', 'budget 144651', 'budget 143688',\n",
       "       'budget 144960', 'budget 144385', 'budget 144923', 'budget 143950',\n",
       "       'budget 143838', 'budget 143947', 'budget 143704', 'budget 143707',\n",
       "       'budget 144127', 'budget 143951', 'budget 144560', 'budget 144045',\n",
       "       'budget 143770', 'budget 143982', 'budget 144405', 'budget 143832',\n",
       "       'budget 143858', 'budget 143705', 'budget 143747', 'budget 144154',\n",
       "       'budget 143987', 'budget 143989', 'budget 143759', 'budget 144076',\n",
       "       'budget 143812', 'budget 144094', 'budget 143720', 'budget 143856',\n",
       "       'budget 144193', 'budget 144479', 'budget 143850', 'budget 143825',\n",
       "       'budget 143745', 'budget 144145', 'budget 144481', 'budget 144538',\n",
       "       'budget 143827', 'budget 143691', 'budget 143725', 'budget 144188',\n",
       "       'budget 143717', 'budget 143689', 'budget 143828', 'budget 143999',\n",
       "       'budget 143695', 'budget 143860', 'budget 145163', 'budget 144419',\n",
       "       'budget 144184', 'budget 144008', 'budget 143774', 'budget 143829',\n",
       "       'budget 144537', 'budget 143760', 'budget 144549', 'budget 144180',\n",
       "       'budget 144121', 'budget 143826', 'budget 143776', 'budget 143777',\n",
       "       'budget 143735', 'budget 143942', 'budget 143690', 'budget 143854',\n",
       "       'budget 143719', 'budget 144137', 'budget 144093', 'budget 143844',\n",
       "       'budget 144601', 'budget 143687', 'budget 144186', 'budget 144083',\n",
       "       'budget 143994', 'budget 143736', 'budget 144034', 'budget 143718',\n",
       "       'budget 144006', 'budget 143910', 'budget 144963', 'budget 143848',\n",
       "       'budget 143986', 'budget 143851', 'budget 144199', 'budget 143814',\n",
       "       'budget 143830', 'budget 143761', 'budget 144003', 'budget 143767',\n",
       "       'budget 144173', 'budget 146620', 'budget 143693', 'budget 144522',\n",
       "       'budget 143781', 'budget 143969', 'budget 144033', 'budget 144303',\n",
       "       'budget 143970', 'budget 144308', 'budget 143993', 'budget 144962',\n",
       "       'budget 143679', 'budget 144262', 'budget 144208', 'budget 144600',\n",
       "       'budget 144182', 'budget 143682', 'budget 143849', 'budget 143696',\n",
       "       'budget 143868', 'budget 144032', 'budget 144042', 'budget 143778',\n",
       "       'budget 144183', 'budget 145124', 'budget 143836', 'budget 145371',\n",
       "       'budget 144317', 'budget 144195', 'budget 144010', 'budget 143985',\n",
       "       'budget 145247', 'budget 144041', 'budget 145280', 'budget 144194',\n",
       "       'budget 144261', 'budget 146534', 'budget 144009', 'budget 144074',\n",
       "       'budget 147018', 'budget 146190', 'budget 143681', 'budget 146319',\n",
       "       'budget 143815', 'budget 144302', 'budget 144155', 'budget 146704',\n",
       "       'budget 145294', 'budget 145617', 'budget 143991', 'budget 144207',\n",
       "       'budget 144043', 'budget 143992', 'budget 144251', 'budget 146807',\n",
       "       'budget 147437', 'budget 143984', 'budget 145366', 'budget 143968',\n",
       "       'budget 145484', 'budget 145279', 'budget 145060', 'budget 146406',\n",
       "       'budget 145213', 'budget 146425', 'budget 146666', 'budget 144187',\n",
       "       'budget 145331', 'budget 146722', 'budget 143869', 'budget 145200',\n",
       "       'budget 145234', 'budget 145164', 'budget 144616', 'budget 145169',\n",
       "       'budget 145827', 'budget 145761', 'budget 146443', 'budget 146010',\n",
       "       'budget 145061', 'budget 145129', 'budget 145465', 'budget 145017',\n",
       "       'budget 145078', 'budget 146893', 'budget 145019', 'budget 146808',\n",
       "       'budget 145339', 'budget 147019', 'budget 146839', 'budget 147000',\n",
       "       'budget 146842', 'budget 146872', 'budget 146892', 'budget 145023',\n",
       "       'budget 146836', 'budget 146799', 'budget 146689', 'budget 146711',\n",
       "       'budget 146760', 'budget 145031', 'budget 145049', 'budget 145323',\n",
       "       'budget 145266', 'budget 145609', 'budget 146875', 'budget 145135',\n",
       "       'budget 145162', 'budget 146765', 'budget 145648', 'budget 145229',\n",
       "       'budget 146726', 'budget 145723', 'budget 146690', 'budget 145714',\n",
       "       'budget 145695', 'budget 146827', 'budget 145347', 'budget 145389',\n",
       "       'budget 145965', 'budget 146852', 'budget 147367', 'budget 145415',\n",
       "       'budget 146874', 'budget 145759', 'budget 145077', 'budget 145039',\n",
       "       'budget 145281', 'budget 145394', 'budget 145912', 'budget 146713',\n",
       "       'budget 146803', 'budget 145014', 'budget 145776', 'budget 146805',\n",
       "       'budget 146761', 'budget 145016', 'budget 146683', 'budget 145911',\n",
       "       'budget 145843', 'budget 146727', 'budget 145018', 'budget 145015',\n",
       "       'budget 146560', 'budget 145733', 'budget 145205', 'budget 145134',\n",
       "       'budget 146721', 'budget 146806', 'budget 146810', 'budget 146723',\n",
       "       'budget 146759', 'budget 145293', 'budget 145136', 'budget 145826',\n",
       "       'budget 146764', 'budget 146802', 'budget 145146', 'budget 146873',\n",
       "       'budget 145137', 'budget 147225', 'budget 145758', 'budget 145724',\n",
       "       'budget 146798', 'budget 145295', 'budget 145805', 'budget 146776',\n",
       "       'budget 146731', 'budget 146758', 'budget 146725', 'budget 146859',\n",
       "       'budget 146826', 'budget 146811', 'budget 146846', 'budget 146663',\n",
       "       'budget 145747', 'budget 146724', 'budget 146991', 'budget 145713',\n",
       "       'budget 146784', 'budget 146857', 'budget 146682', 'budget 146795',\n",
       "       'budget 146838', 'budget 146717', 'budget 146698', 'budget 146670',\n",
       "       'budget 146700', 'budget 146720', 'budget 146840', 'budget 146883',\n",
       "       'budget 146681', 'budget 145133', 'budget 146669', 'budget 146701',\n",
       "       'budget 146812', 'budget 146149', 'budget 146676', 'budget 146730',\n",
       "       'budget 146719', 'budget 146697', 'budget 146703', 'budget 146687',\n",
       "       'budget 145044', 'budget 146819', 'budget 146694', 'budget 146665',\n",
       "       'budget 146707', 'budget 146905', 'budget 146763', 'budget 145821',\n",
       "       'budget 146801', 'budget 146854', 'budget 145644', 'budget 145760',\n",
       "       'budget 147420', 'budget 146999', 'budget 146708', 'budget 146688',\n",
       "       'budget 146775', 'budget 146841', 'budget 146762', 'budget 146964',\n",
       "       'budget 146929', 'budget 146668', 'budget 146671', 'budget 146828',\n",
       "       'budget 146706', 'budget 145842', 'budget 146686', 'budget 145844',\n",
       "       'budget 147110', 'budget 145176', 'budget 146679', 'budget 146675',\n",
       "       'budget 146677', 'budget 146705', 'budget 146851', 'budget 147379',\n",
       "       'budget 146845', 'budget 146696', 'budget 146632', 'budget 146843',\n",
       "       'budget 146837', 'budget 146818', 'budget 146741', 'budget 146809',\n",
       "       'budget 146411', 'budget 146796', 'budget 146750', 'budget 146928',\n",
       "       'budget 146678', 'budget 146800', 'budget 146855', 'budget 146699',\n",
       "       'budget 146692', 'budget 146754', 'budget 146691', 'budget 146728',\n",
       "       'budget 146793', 'budget 146685', 'budget 146777', 'budget 146680',\n",
       "       'budget 146797', 'budget 146664', 'budget 146804', 'budget 146822',\n",
       "       'budget 146782', 'budget 146860', 'budget 146672', 'budget 146714',\n",
       "       'budget 146693', 'budget 146858', 'budget 146817', 'budget 146824',\n",
       "       'budget 146773', 'budget 146847', 'budget 146695', 'budget 146965',\n",
       "       'budget 146716', 'budget 146674', 'budget 147397', 'budget 147402',\n",
       "       'budget 147485', 'budget 147399', 'budget 147376', 'budget 146702',\n",
       "       'budget 146757', 'budget 146684', 'budget 147421', 'budget 146844',\n",
       "       'budget 146673', 'budget 146752', 'budget 146779', 'budget 146709',\n",
       "       'budget 147456', 'budget 147474', 'budget 147491', 'budget 147510',\n",
       "       'budget 146781', 'budget 146718', 'budget 146778', 'budget 147065',\n",
       "       'budget 147384', 'budget 146823', 'budget 146729', 'budget 146848',\n",
       "       'budget 146751', 'budget 146732', 'budget 146815', 'budget 146821',\n",
       "       'budget 147435', 'budget 146849', 'budget 146794', 'budget 146990',\n",
       "       'budget 146710', 'budget 147386', 'budget 146814', 'budget 147063',\n",
       "       'budget 146742', 'budget 147419', 'budget 146740', 'budget 146715',\n",
       "       'budget 147438', 'budget 146755', 'budget 147391', 'budget 146753',\n",
       "       'budget 147422', 'budget 147394', 'budget 147356', 'budget 146756',\n",
       "       'budget 147513', 'budget 146856', 'budget 146825', 'budget 147385',\n",
       "       'budget 146783', 'budget 147401', 'budget 146820', 'budget 147418',\n",
       "       'budget 147400', 'budget 147424', 'budget 146667', 'budget 146816',\n",
       "       'budget 147388', 'budget 147375', 'budget 147357', 'budget 147373',\n",
       "       'budget 146712', 'budget 147411', 'budget 147115', 'budget 147064',\n",
       "       'budget 146850', 'budget 147447', 'budget 146780', 'budget 147448',\n",
       "       'budget 146774', 'budget 147114', 'budget 147390', 'budget 147382',\n",
       "       'budget 147500', 'budget 147486', 'budget 147416', 'budget 146813',\n",
       "       'budget 147027', 'budget 147413', 'budget 147505', 'budget 147111',\n",
       "       'budget 147504', 'budget 147415', 'budget 147398', 'budget 147414',\n",
       "       'budget 147446', 'budget 147436', 'budget 147412', 'budget 147383',\n",
       "       'budget 147481', 'budget 146853', 'budget 147366', 'budget 147381',\n",
       "       'budget 147370', 'budget 147502', 'budget 147479', 'budget 147499',\n",
       "       'budget 147389', 'budget 147501', 'budget 147396', 'budget 147369',\n",
       "       'budget 147440', 'budget 147368', 'budget 147423', 'budget 147441',\n",
       "       'budget 147506', 'budget 147484', 'budget 147444', 'budget 147374',\n",
       "       'budget 147480', 'budget 147392', 'budget 147439', 'budget 147442',\n",
       "       'budget 147451', 'budget 147503', 'budget 147528', 'budget 147387',\n",
       "       'budget 147377', 'budget 147378', 'budget 147483', 'budget 147512',\n",
       "       'budget 147393', 'budget 147526', 'budget 147372', 'budget 147524',\n",
       "       'budget 147443', 'budget 147371', 'budget 147450', 'budget 147395',\n",
       "       'budget 147417', 'budget 147445', 'budget 147482', 'budget 147380',\n",
       "       'budget 147525', 'budget 147527', 'budget 147449'], dtype=object)"
      ]
     },
     "execution_count": 24,
     "metadata": {},
     "output_type": "execute_result"
    }
   ],
   "source": [
    "#\tCASE_BudgetNumber\n",
    "d.CASE_BudgetNumber.unique()"
   ]
  },
  {
   "cell_type": "code",
   "execution_count": null,
   "metadata": {},
   "outputs": [],
   "source": []
  }
 ],
 "metadata": {
  "kernelspec": {
   "display_name": "Python 3",
   "language": "python",
   "name": "python3"
  },
  "language_info": {
   "codemirror_mode": {
    "name": "ipython",
    "version": 3
   },
   "file_extension": ".py",
   "mimetype": "text/x-python",
   "name": "python",
   "nbconvert_exporter": "python",
   "pygments_lexer": "ipython3",
   "version": "3.7.0"
  }
 },
 "nbformat": 4,
 "nbformat_minor": 2
}
